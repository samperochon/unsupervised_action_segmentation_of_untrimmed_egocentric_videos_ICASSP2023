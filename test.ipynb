{
 "cells": [
  {
   "cell_type": "markdown",
   "id": "552e4365-5aab-4dc1-9a93-7a87b4837d68",
   "metadata": {},
   "source": [
    "# Unsupervised action segmentation of egocentric videos"
   ]
  },
  {
   "cell_type": "markdown",
   "id": "86bdf7db-3a65-4142-9442-f41f09e33315",
   "metadata": {},
   "source": [
    "#### Init."
   ]
  },
  {
   "cell_type": "code",
   "execution_count": 1,
   "id": "02862510-e160-42f7-a151-fd1e71a3f56d",
   "metadata": {},
   "outputs": [],
   "source": [
    "import os\n",
    "import numpy as np\n",
    "import pandas as pd\n",
    "import os\n",
    "import warnings\n",
    "import time\n",
    "warnings.filterwarnings(\"ignore\")\n",
    "%precision 2\n",
    "\n",
    "# Import our own algorithms\n",
    "from src.dataset import VideoFrameDataset\n",
    "from src.pipeline import Pipeline\n",
    "from src.metrics import Annotation\n",
    "from src.const import DEFAULT_CONFIG"
   ]
  },
  {
   "cell_type": "markdown",
   "id": "cf9b30d3-2f1c-4d9c-87c9-6dd0d197d2f0",
   "metadata": {},
   "source": [
    "#### Segmentation of a sample video"
   ]
  },
  {
   "cell_type": "code",
   "execution_count": 2,
   "id": "8b32613c-c288-4186-8709-6e40eda07b6b",
   "metadata": {},
   "outputs": [],
   "source": [
    "video_path = './data/sample_video.mp4'\n",
    "ground_truth_path = './data/sample_video_ground_truth.csv'\n",
    "feature_vectors_path = './data/sample_video_features.npy'\n",
    "num_actions = 3"
   ]
  },
  {
   "cell_type": "code",
   "execution_count": 3,
   "id": "0b403f7f-842e-4867-b3e3-c6e298780d31",
   "metadata": {},
   "outputs": [
    {
     "name": "stderr",
     "output_type": "stream",
     "text": [
      "Using cache found in /Users/samperochon/.cache/torch/hub/pytorch_vision_v0.10.0\n"
     ]
    },
    {
     "data": {
      "image/png": "[encoded data removed]",
      "text/plain": [
       "<Figure size 1800x360 with 2 Axes>"
      ]
     },
     "metadata": {
      "needs_background": "light"
     },
     "output_type": "display_data"
    },
    {
     "name": "stdout",
     "output_type": "stream",
     "text": [
      "Frame-wise accuracy: 0.83\n",
      "Frame-wise F1-score (macro averaging): 0.81\n",
      "Jaccard index: 0.70\n",
      "Edit score (Levenstein metric): 75.00\n",
      "Segment-wise F1@.10: 85.71\n",
      "Segment-wise F1@.25: 85.71\n",
      "Segment-wise F1@.50: 85.71\n",
      "--- Runtime: 6.280426025390625 seconds ---\n",
      "\n",
      "Done! You can find the output png of the segmentation in ./outputs/output.png, the performance in ./outputs/performances.csv, and segmentation in ./outputs/prediction.csv\n"
     ]
    }
   ],
   "source": [
    "start_time = time.time()\n",
    "\n",
    "# Create the video dataset\n",
    "dataset = VideoFrameDataset(filename=video_path, config=DEFAULT_CONFIG)\n",
    "\n",
    "# Create the ground truth and metrics computation object\n",
    "annotation = Annotation()\n",
    "if ground_truth_path is not None:\n",
    "    df = pd.read_csv(ground_truth_path)\n",
    "    annotation.populate_ground_truth(df, dataset.n_frames)\n",
    "\n",
    "# Create the pipeline object\n",
    "pipeline = Pipeline(dataset=dataset, annotation=annotation, config=DEFAULT_CONFIG, verbosity=0)\n",
    "\n",
    "# Compute frame embedding\n",
    "pipeline.compute_embedding(path=feature_vectors_path)\n",
    "\n",
    "# Do thte background extraction\n",
    "pipeline.outlier_methods = ['custom', 'silhouette_score']\n",
    "pipeline.remove_outliers_method()\n",
    "\n",
    "# Calibration of the lambda parameter \n",
    "regularization_lambda = int(10*3000/dataset.n_frames)\n",
    "\n",
    "# Detect ruptures\n",
    "pipeline.detect_ruptures(penalty=regularization_lambda, ruptures_on = 'embedding_ts', remove_outliers=True, verbose=False)\n",
    "\n",
    "if ground_truth_path is not None:\n",
    "    # Take as number of cluster the number of different actions in the ground truth\n",
    "    num_clusters = len(np.unique(annotation.gt_label)) - 1\n",
    "\n",
    "else:\n",
    "    num_clusters = num_actions\n",
    "\n",
    "# Cluster non-background segments\n",
    "pipeline.cluster_frames(n_clusters=num_clusters, method='kmeans')\n",
    "\n",
    "# Compute metrics and plot results\n",
    "pipeline.annotation.compute_metrics()\n",
    "pipeline.annotation.plot()\n",
    "if ground_truth_path is not None:\n",
    "    pipeline.annotation.compute_metrics()\n",
    "\n",
    "    # Create outputs\n",
    "    pipeline.create_outputs()\n",
    "\n",
    "    print(\"Frame-wise accuracy: {:.2f}\".format(pipeline.annotation.accuracy))\n",
    "    print(\"Frame-wise F1-score (macro averaging): {:.2f}\".format(pipeline.annotation.f1_macro))\n",
    "    print(\"Jaccard index: {:.2f}\".format(pipeline.annotation.iou))\n",
    "    print(\"Edit score (Levenstein metric): {:.2f}\".format(pipeline.annotation.edit))\n",
    "    print(\"Segment-wise F1@.10: {:.2f}\".format(pipeline.annotation.f1_10))\n",
    "    print(\"Segment-wise F1@.25: {:.2f}\".format(pipeline.annotation.f1_25))\n",
    "    print(\"Segment-wise F1@.50: {:.2f}\".format(pipeline.annotation.f1_50))\n",
    "\n",
    "print(\"--- Runtime: %s seconds ---\" % (time.time() - start_time))\n",
    "print(\"\\nDone! You can find the output png of the segmentation in ./outputs/output.png, the performance in ./outputs/performances.csv, and segmentation in ./outputs/prediction.csv\")"
   ]
  },
  {
   "cell_type": "markdown",
   "id": "edfbd78e-c996-4fd5-b2e4-f0de69f0e596",
   "metadata": {},
   "source": [
    "#### Init."
   ]
  },
  {
   "cell_type": "code",
   "execution_count": 3,
   "id": "0bdf236a-5e70-4a6d-b352-808bcb94426f",
   "metadata": {},
   "outputs": [],
   "source": [
    "import os\n",
    "import numpy as np\n",
    "import pandas as pd\n",
    "import os\n",
    "import warnings\n",
    "import time\n",
    "\n",
    "# Import our own algorithms\n",
    "from src.dataset import VideoFrameDataset\n",
    "from src.pipeline import Pipeline\n",
    "from src.metrics import Annotation\n",
    "from src.const import DEFAULT_CONFIG\n",
    "\n",
    "#### Segmentation of a sample video\n",
    "video_path = './data/sample_video.mp4'\n",
    "ground_truth_path = './data/sample_video_ground_truth.csv'\n",
    "feature_vectors_path = './data/sample_video_features.npy'\n",
    "\n",
    "start_time = time.time()\n",
    "\n",
    "# Create the video dataset\n",
    "dataset = VideoFrameDataset(filename=video_path, config=DEFAULT_CONFIG)\n",
    "\n",
    "# Create the ground truth and metrics computation object\n",
    "annotation = Annotation()\n",
    "if ground_truth_path is not None:\n",
    "    df = pd.read_csv(ground_truth_path)\n",
    "    annotation.populate_ground_truth(df, dataset.n_frames)\n",
    "\n",
    "# Create the pipeline object\n",
    "pipeline = Pipeline(dataset=dataset, annotation=annotation, config=DEFAULT_CONFIG, verbosity=0)\n",
    "\n",
    "# Compute frame embedding\n",
    "pipeline.compute_embedding(path=feature_vectors_path)\n",
    "\n",
    "# Do thte background extraction\n",
    "pipeline.outlier_methods = ['custom', 'silhouette_score']\n",
    "pipeline.remove_outliers_method()\n",
    "\n",
    "# Calibration of the lambda parameter \n",
    "regularization_lambda = int(10*3000/dataset.n_frames)\n",
    "\n",
    "# Detect ruptures\n",
    "pipeline.detect_ruptures(penalty=regularization_lambda, ruptures_on = 'embedding_ts', remove_outliers=True, verbose=False)\n",
    "\n",
    "# Take as number of cluster the number of different actions in the ground truth\n",
    "num_clusters = len(np.unique(annotation.gt_label)) - 1\n",
    "\n",
    "# Cluster non-background segments\n",
    "pipeline.cluster_frames(n_clusters=num_clusters, method='kmeans')\n",
    "\n",
    "# Compute metrics and plot results\n",
    "pipeline.annotation.compute_metrics()\n",
    "pipeline.annotation.plot()\n",
    "pipeline.annotation.compute_metrics()\n",
    "\n",
    "# Create outputs\n",
    "pipeline.create_outputs()\n",
    "\n",
    "print(\"Frame-wise accuracy: {:.2f}\".format(pipeline.annotation.accuracy))\n",
    "print(\"Frame-wise F1-score (macro averaging): {:.2f}\".format(pipeline.annotation.f1_macro))\n",
    "print(\"Jaccard index: {:.2f}\".format(pipeline.annotation.iou))\n",
    "print(\"Edit score (Levenstein metric): {:.2f}\".format(pipeline.annotation.edit))\n",
    "print(\"Segment-wise F1@.10: {:.2f}\".format(pipeline.annotation.f1_10))\n",
    "print(\"Segment-wise F1@.25: {:.2f}\".format(pipeline.annotation.f1_25))\n",
    "print(\"Segment-wise F1@.50: {:.2f}\".format(pipeline.annotation.f1_50))\n",
    "\n",
    "print(\"--- Runtime: %s seconds ---\" % (time.time() - start_time))\n",
    "print(\"\\nDone! You can find the output png of the segmentation in ./outputs/output.png, the performance in ./outputs/performances.csv, and segmentation in ./outputs/prediction.csv\")"
   ]
  }
 ],
 "metadata": {
  "kernelspec": {
   "display_name": "temporal_segmentation",
   "language": "python",
   "name": "temporal_segmentation"
  },
  "language_info": {
   "codemirror_mode": {
    "name": "ipython",
    "version": 3
   },
   "file_extension": ".py",
   "mimetype": "text/x-python",
   "name": "python",
   "nbconvert_exporter": "python",
   "pygments_lexer": "ipython3",
   "version": "3.7.11"
  }
 },
 "nbformat": 4,
 "nbformat_minor": 5
}
